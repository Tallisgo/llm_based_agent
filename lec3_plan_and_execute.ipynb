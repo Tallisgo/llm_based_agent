{
 "cells": [
  {
   "cell_type": "markdown",
   "metadata": {},
   "source": [
    "# Plan and execute"
   ]
  },
  {
   "cell_type": "code",
   "execution_count": 1,
   "metadata": {},
   "outputs": [],
   "source": [
    "from openai import OpenAI\n",
    "from typing import List, Dict\n",
    "\n",
    "def ask(messages: List[Dict]):\n",
    "        client = OpenAI(api_key='YOUR DEEPSEEK KEY', base_url=\"https://api.deepseek.com\")\n",
    "        response = client.chat.completions.create(\n",
    "                model = 'deepseek-chat',\n",
    "                temperature = 0,\n",
    "                messages = messages\n",
    "        )\n",
    "\n",
    "        return response"
   ]
  },
  {
   "cell_type": "markdown",
   "metadata": {},
   "source": [
    "## 1. Plan"
   ]
  },
  {
   "cell_type": "code",
   "execution_count": 2,
   "metadata": {},
   "outputs": [],
   "source": [
    "# thanks to langchain\n",
    "\n",
    "plan_system_prompt = \"\"\"\n",
    "    Let's first understand the problem and devise a plan to solve the problem.\n",
    "    Please output the plan starting with the header 'Plan:' and then followed by a numbered list of steps. \n",
    "    Please make the plan the minimum number of steps required to accurately complete the task. If the task is a question, \n",
    "    the final step should almost always be 'Given the above steps taken, please respond to the users original question'. \n",
    "\"\"\"\n",
    "\n",
    "# user content\n",
    "question = 'the population gap between Toronto and New York city'\n",
    "\n",
    "# messages\n",
    "messages = [\n",
    "    {'role':'system', 'content': plan_system_prompt},\n",
    "    {'role':'user', 'content': question}\n",
    "]"
   ]
  },
  {
   "cell_type": "code",
   "execution_count": 3,
   "metadata": {},
   "outputs": [
    {
     "name": "stdout",
     "output_type": "stream",
     "text": [
      "Plan:\n",
      "1. Research the current population of Toronto.\n",
      "2. Research the current population of New York City.\n",
      "3. Calculate the difference in population between the two cities.\n",
      "4. Given the above steps taken, please respond to the user's original question about the population gap between Toronto and New York City.\n"
     ]
    }
   ],
   "source": [
    "response = ask(messages)\n",
    "\n",
    "plans = response.choices[0].message.content\n",
    "print(plans)"
   ]
  },
  {
   "cell_type": "markdown",
   "metadata": {},
   "source": [
    "## 2. use tool"
   ]
  },
  {
   "cell_type": "code",
   "execution_count": 4,
   "metadata": {},
   "outputs": [],
   "source": [
    "from duckduckgo_search import DDGS\n",
    "\n",
    "def internet_search(query: str):\n",
    "    with DDGS() as ddgs:\n",
    "        ddgs_gen = ddgs.text(\n",
    "            query,\n",
    "            max_results=5, \n",
    "            region=\"wt-wt\", \n",
    "            safesearch=\"moderate\", \n",
    "            timelimit=\"y\",\n",
    "            backend=\"api\",\n",
    "        )\n",
    "        if ddgs_gen:\n",
    "            return [r for r in ddgs_gen]\n",
    "    return \"No results found.\""
   ]
  },
  {
   "cell_type": "code",
   "execution_count": 5,
   "metadata": {},
   "outputs": [
    {
     "data": {
      "text/plain": [
       "[{'title': 'Demographics of Toronto - Wikipedia',\n",
       "  'href': 'https://en.wikipedia.org/wiki/Demographics_of_Toronto',\n",
       "  'body': \"The last complete census by Statistics Canada, which was taken in 2021, estimated there were 2,794,356 living in Toronto, making it the most populous city in Canada and the fourth most populous municipality in North America.. Toronto's population grew by 2.3 percent from 2016 to 2021, with an annual growth rate of 0.46 percent.. 2011 Census population data for the City of Toronto are found ...\"},\n",
       " {'title': 'Toronto - Statistics & Facts | Statista',\n",
       "  'href': 'https://www.statista.com/topics/9849/toronto/',\n",
       "  'body': \"Editor's Picks Current statistics on this topic. Population. ... Premium Statistic Average age of Toronto's population in Canada 2001-2022 ...\"},\n",
       " {'title': 'Population estimates, July 1, by census metropolitan area and census ...',\n",
       "  'href': 'https://www150.statcan.gc.ca/t1/tbl1/en/tv.action?pid=1710014801',\n",
       "  'body': 'Table 17-10-0148-01 Population estimates, July 1, by census metropolitan area and census agglomeration, 2021 boundaries. Annual population estimates as of July 1st, by census metropolitan area and census agglomeration, single year of age, five-year age group and gender, based on the Standard Geographical Classification (SGC) 2021.'},\n",
       " {'title': 'Population of Toronto: Facts, Figures, and Trends',\n",
       "  'href': 'https://historyoftoronto.ca/blog/the-current-population-of-toronto-and-its-growth-trends-in-recent-years',\n",
       "  'body': 'The population of Toronto has been steadily growing over the years. In fact, it is estimated that the current population of Toronto is over 2.9 million people. The city has experienced significant population growth due to factors such as immigration, urbanization, and a high standard of living. How is the population of Toronto counted?'},\n",
       " {'title': 'Canada: population of Toronto 2022 | Statista',\n",
       "  'href': 'https://www.statista.com/statistics/1317437/population-toronto-canada/',\n",
       "  'body': 'Between 2001 and 2022, the population of the city of Toronto, in the Canadian province of Ontario, increased by around 35 percent.'}]"
      ]
     },
     "execution_count": 5,
     "metadata": {},
     "output_type": "execute_result"
    }
   ],
   "source": [
    "# step1\n",
    "\n",
    "search_res = internet_search('the current population of Toronto')\n",
    "search_res"
   ]
  },
  {
   "cell_type": "code",
   "execution_count": 6,
   "metadata": {},
   "outputs": [
    {
     "data": {
      "text/plain": [
       "[{'title': \"NYC's Shifting Population: The Latest Statistics | Office of the New ...\",\n",
       "  'href': 'https://www.osc.ny.gov/reports/nycs-shifting-population-latest-statistics',\n",
       "  'body': \"Population shifts during and after the COVID-19 pandemic are changing the face of New York City. In the wake of the pandemic, the City's populace is overall older and wealthier, with a rebounding population of international migrants and declining shares of White and Black New Yorkers. The cost of living also rose as the pandemic subsided, making the City increasingly more expensive for lower ...\"},\n",
       " {'title': 'New York City - Statistics & Facts | Statista',\n",
       "  'href': 'https://www.statista.com/topics/9382/new-york-city/',\n",
       "  'body': 'Basic Statistic New York-Newark-Jersey City metro area population in the U.S. 2010-2022 Premium Statistic Resident population of New York City, NY, by race 2022'},\n",
       " {'title': 'Demographics of New York City - Wikipedia',\n",
       "  'href': 'https://en.wikipedia.org/wiki/Demographics_of_New_York_City',\n",
       "  'body': \"New York City is the most populous city in the United States, with an estimated 8,804,190 people living in the city, according to the 2020 U.S. Census (up from 8,175,133 in 2010; 8.0 million in 2000; and 7.3 million in 1990). This amounts to about 44% of New York State's population and a similar percentage of the metropolitan regional population.\"},\n",
       " {'title': 'New York City demographic and health status - ArcGIS StoryMaps',\n",
       "  'href': 'https://storymaps.arcgis.com/stories/892c3889d00546aba10fb9937b34dd51',\n",
       "  'body': 'Total population of the city in 2020 consists of 8,804,190 residents. The male population consists of 4,184,548 and females 4,619.642. \"Between 2020 and 2021 the population of New York, NY grew from 8.38M to 8.74M, a 4.25% increase and its median household income grew from $67,046 to $70,663, a 5.39% increase\" (DATAUSA) NYC Planning Population ...'},\n",
       " {'title': 'New York City population clock live - current population of New York ...',\n",
       "  'href': 'https://worldpopulationclock.info/usa/new-york/new-york-city',\n",
       "  'body': \"On 01 Jul 2023 New York City population was estimated as 8544108 people. On 01 Jul 2024 New York City population will be 8597468 people. It's +0.62% (53360 people) compared with the population of New York City on 01 Jul 2024. These data (statistics and projection) are based on information from the United Nations and Census on the assessment ...\"}]"
      ]
     },
     "execution_count": 6,
     "metadata": {},
     "output_type": "execute_result"
    }
   ],
   "source": [
    "# step 2\n",
    "\n",
    "search_res = internet_search('the current population of New York city')\n",
    "search_res"
   ]
  },
  {
   "cell_type": "code",
   "execution_count": null,
   "metadata": {},
   "outputs": [],
   "source": []
  }
 ],
 "metadata": {
  "kernelspec": {
   "display_name": "agent",
   "language": "python",
   "name": "python3"
  },
  "language_info": {
   "codemirror_mode": {
    "name": "ipython",
    "version": 3
   },
   "file_extension": ".py",
   "mimetype": "text/x-python",
   "name": "python",
   "nbconvert_exporter": "python",
   "pygments_lexer": "ipython3",
   "version": "3.10.14"
  },
  "vscode": {
   "interpreter": {
    "hash": "bf9bbd8761e205a067c272e6ed0abbdf91f38ae4d8d5f3f65ae82c28409ae2c6"
   }
  }
 },
 "nbformat": 4,
 "nbformat_minor": 2
}

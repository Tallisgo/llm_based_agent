{
 "cells": [
  {
   "cell_type": "markdown",
   "metadata": {},
   "source": [
    "# Self-refine"
   ]
  },
  {
   "cell_type": "code",
   "execution_count": 1,
   "metadata": {},
   "outputs": [],
   "source": [
    "from openai import OpenAI\n",
    "from typing import List, Dict\n",
    "\n",
    "def ask(messages: List[Dict]):\n",
    "        client = OpenAI(api_key='YOUR DEEPSEEK KEY', base_url=\"https://api.deepseek.com\")\n",
    "        response = client.chat.completions.create(\n",
    "                model = 'deepseek-chat',\n",
    "                temperature = 0,\n",
    "                messages = messages\n",
    "        )\n",
    "\n",
    "        return response"
   ]
  },
  {
   "attachments": {},
   "cell_type": "markdown",
   "metadata": {},
   "source": [
    "## 1st time interacting with Deepseek"
   ]
  },
  {
   "cell_type": "code",
   "execution_count": 2,
   "metadata": {},
   "outputs": [],
   "source": [
    "# reference https://github.com/andrewyng/translation-agent\n",
    "\n",
    "source_text = \"\"\"\n",
    "Last week, I spoke about AI and regulation at the U.S. Capitol at an event that was attended by legislative and business leaders. I’m encouraged by the progress the open source community has made fending off regulations that would have stifled innovation. But opponents of open source are continuing to shift their arguments, with the latest worries centering on open source's impact on national security. I hope we’ll all keep protecting open source!\n",
    "\n",
    "Based on my conversations with legislators, I’m encouraged by the progress the U.S. federal government has made getting a realistic grasp of AI’s risks. To be clear, guardrails are needed. But they should be applied to AI applications, not to general-purpose AI technology.\n",
    "\"\"\""
   ]
  },
  {
   "cell_type": "code",
   "execution_count": 3,
   "metadata": {},
   "outputs": [
    {
     "name": "stdout",
     "output_type": "stream",
     "text": [
      "This is an English to Chinese translation, please provide the Chinese translation for this text. Do not provide any explanations or text apart from the translation.\n",
      "English: \n",
      "Last week, I spoke about AI and regulation at the U.S. Capitol at an event that was attended by legislative and business leaders. I’m encouraged by the progress the open source community has made fending off regulations that would have stifled innovation. But opponents of open source are continuing to shift their arguments, with the latest worries centering on open source's impact on national security. I hope we’ll all keep protecting open source!\n",
      "\n",
      "Based on my conversations with legislators, I’m encouraged by the progress the U.S. federal government has made getting a realistic grasp of AI’s risks. To be clear, guardrails are needed. But they should be applied to AI applications, not to general-purpose AI technology.\n",
      "\n",
      "\n",
      "Chinese:\n"
     ]
    }
   ],
   "source": [
    "## system prompt\n",
    "first_translate_system_message = f\"You are an expert linguist, specializing in translation from English to Chinese.\"\n",
    "\n",
    "## user prompt\n",
    "\n",
    "first_user_translation_prompt = f\"\"\"This is an English to Chinese translation, please provide the Chinese translation for this text. \\\n",
    "Do not provide any explanations or text apart from the translation.\n",
    "English: {source_text}\n",
    "\n",
    "Chinese:\"\"\"\n",
    "\n",
    "## 将 source text 作为参数传入，构造好完整的输入\n",
    "first_user_prompt = first_user_translation_prompt.format(source_text=source_text)\n",
    "\n",
    "print(first_user_prompt)"
   ]
  },
  {
   "cell_type": "code",
   "execution_count": 4,
   "metadata": {},
   "outputs": [
    {
     "name": "stdout",
     "output_type": "stream",
     "text": [
      "上周，我在美国国会大厦的一次活动中谈到了人工智能和监管问题，该活动吸引了立法界和企业界的领袖。我对开源社区在抵御可能扼杀创新的法规方面取得的进展感到鼓舞。但开源的反对者正在不断转变他们的论点，最新的担忧集中在开源对国家安全的影响上。我希望我们都能继续保护开源！\n",
      "\n",
      "根据我与立法者的对话，我对美国联邦政府在切实把握人工智能风险方面取得的进展感到鼓舞。需要明确的是，监管措施是必要的。但它们应该针对人工智能应用，而不是通用的人工智能技术。\n"
     ]
    }
   ],
   "source": [
    "messages = [\n",
    "    {\"role\":\"system\", \"content\": first_translate_system_message},\n",
    "    {\"role\":\"user\", \"content\": first_user_prompt}\n",
    "]\n",
    "\n",
    "first_response = ask(messages=messages)\n",
    "\n",
    "translation_1 = first_response.choices[0].message.content\n",
    "print(translation_1)"
   ]
  },
  {
   "attachments": {},
   "cell_type": "markdown",
   "metadata": {},
   "source": [
    "## 2ed time interacting with Deepseek"
   ]
  },
  {
   "cell_type": "code",
   "execution_count": 5,
   "metadata": {},
   "outputs": [],
   "source": [
    "reflect_system_prompt = \"You are an expert linguist specializing in translation from English to Chinese. \\\n",
    "You will be provided with a source text and its translation and your goal is to improve the translation.\""
   ]
  },
  {
   "cell_type": "code",
   "execution_count": 6,
   "metadata": {},
   "outputs": [
    {
     "name": "stdout",
     "output_type": "stream",
     "text": [
      "Your task is to carefully read a source text and a translation from English to Chinese, and then give constructive criticism and helpful suggestions to improve the translation. \n",
      "The source text and initial translation, delimited by XML tags <SOURCE_TEXT></SOURCE_TEXT> and <TRANSLATION></TRANSLATION>, are as follows:\n",
      "\n",
      "<SOURCE_TEXT>\n",
      "\n",
      "Last week, I spoke about AI and regulation at the U.S. Capitol at an event that was attended by legislative and business leaders. I’m encouraged by the progress the open source community has made fending off regulations that would have stifled innovation. But opponents of open source are continuing to shift their arguments, with the latest worries centering on open source's impact on national security. I hope we’ll all keep protecting open source!\n",
      "\n",
      "Based on my conversations with legislators, I’m encouraged by the progress the U.S. federal government has made getting a realistic grasp of AI’s risks. To be clear, guardrails are needed. But they should be applied to AI applications, not to general-purpose AI technology.\n",
      "\n",
      "</SOURCE_TEXT>\n",
      "\n",
      "<TRANSLATION>\n",
      "上周，我在美国国会大厦的一次活动中谈到了人工智能和监管问题，该活动吸引了立法界和企业界的领袖。我对开源社区在抵御可能扼杀创新的法规方面取得的进展感到鼓舞。但开源的反对者正在不断转变他们的论点，最新的担忧集中在开源对国家安全的影响上。我希望我们都能继续保护开源！\n",
      "\n",
      "根据我与立法者的对话，我对美国联邦政府在切实把握人工智能风险方面取得的进展感到鼓舞。需要明确的是，监管措施是必要的。但它们应该针对人工智能应用，而不是通用的人工智能技术。\n",
      "</TRANSLATION>\n",
      "\n",
      "When writing suggestions, pay attention to whether there are ways to improve the translation's \n",
      "(i) accuracy (by correcting errors of addition, mistranslation, omission, or untranslated text),\n",
      "(ii) fluency (by applying Chinese grammar, spelling and punctuation rules, and ensuring there are no unnecessary repetitions),\n",
      "(iii) style (by ensuring the translations reflect the style of the source text and takes into account any cultural context),\n",
      "(iv) terminology (by ensuring terminology use is consistent and reflects the source text domain; and by only ensuring you use equivalent idioms Chinese).\n",
      "\n",
      "Write a list of specific, helpful and constructive suggestions for improving the translation.\n",
      "Each suggestion should address one specific part of the translation.\n",
      "Output only the suggestions and nothing else.\n"
     ]
    }
   ],
   "source": [
    "reflect_prompt = f\"\"\"Your task is to carefully read a source text and a translation from English to Chinese, and then give constructive criticism and helpful suggestions to improve the translation. \\\n",
    "\n",
    "The source text and initial translation, delimited by XML tags <SOURCE_TEXT></SOURCE_TEXT> and <TRANSLATION></TRANSLATION>, are as follows:\n",
    "\n",
    "<SOURCE_TEXT>\n",
    "{source_text}\n",
    "</SOURCE_TEXT>\n",
    "\n",
    "<TRANSLATION>\n",
    "{translation_1}\n",
    "</TRANSLATION>\n",
    "\n",
    "When writing suggestions, pay attention to whether there are ways to improve the translation's \\n\\\n",
    "(i) accuracy (by correcting errors of addition, mistranslation, omission, or untranslated text),\\n\\\n",
    "(ii) fluency (by applying Chinese grammar, spelling and punctuation rules, and ensuring there are no unnecessary repetitions),\\n\\\n",
    "(iii) style (by ensuring the translations reflect the style of the source text and takes into account any cultural context),\\n\\\n",
    "(iv) terminology (by ensuring terminology use is consistent and reflects the source text domain; and by only ensuring you use equivalent idioms Chinese).\\n\\\n",
    "\n",
    "Write a list of specific, helpful and constructive suggestions for improving the translation.\n",
    "Each suggestion should address one specific part of the translation.\n",
    "Output only the suggestions and nothing else.\"\"\"\n",
    "\n",
    "feedback_user_prompt = reflect_prompt.format(\n",
    "        source_text=source_text,\n",
    "        translation_1=translation_1,\n",
    "    )\n",
    "\n",
    "print(feedback_user_prompt)"
   ]
  },
  {
   "cell_type": "code",
   "execution_count": 7,
   "metadata": {},
   "outputs": [
    {
     "name": "stdout",
     "output_type": "stream",
     "text": [
      "1. 将“上周，我在美国国会大厦的一次活动中谈到了人工智能和监管问题”修改为“上周，我在美国国会大厦的一次活动中就人工智能及其监管问题发表了演讲”，以更准确地传达原文的演讲行为。\n",
      "2. 将“该活动吸引了立法界和企业界的领袖”修改为“该活动汇聚了立法界和企业界的领袖”，以提高表达的流畅性和自然度。\n",
      "3. 将“我对开源社区在抵御可能扼杀创新的法规方面取得的进展感到鼓舞”修改为“我对开源社区在抵御可能扼杀创新的法规方面所取得的进展感到鼓舞”，增加“所”字以增强语句的完整性。\n",
      "4. 将“但开源的反对者正在不断转变他们的论点”修改为“但反对开源的人士正在不断转变他们的论点”，以更准确地表达原文的反对者身份。\n",
      "5. 将“最新的担忧集中在开源对国家安全的影响上”修改为“最新的担忧聚焦于开源对国家安全的影响”，以提高表达的精炼度和流畅性。\n",
      "6. 将“我希望我们都能继续保护开源！”修改为“我期望我们都能继续保护开源！”，以更符合原文的语气。\n",
      "7. 将“根据我与立法者的对话”修改为“基于我与立法者的交流”，以更准确地传达原文的交流行为。\n",
      "8. 将“我对美国联邦政府在切实把握人工智能风险方面取得的进展感到鼓舞”修改为“我对美国联邦政府在切实把握人工智能风险方面所取得的进展感到鼓舞”，增加“所”字以增强语句的完整性。\n",
      "9. 将“需要明确的是，监管措施是必要的”修改为“需要明确的是，监管措施是不可或缺的”，以更准确地传达原文的强调语气。\n",
      "10. 将“但它们应该针对人工智能应用，而不是通用的人工智能技术”修改为“但它们应针对人工智能的具体应用，而非通用的人工智能技术”，以提高表达的准确性和流畅性。\n"
     ]
    }
   ],
   "source": [
    "message2 = [\n",
    "    {\"role\":\"system\", \"content\": reflect_system_prompt},\n",
    "    {\"role\":\"user\", \"content\": feedback_user_prompt}\n",
    "]\n",
    "\n",
    "response = ask(messages=message2)\n",
    "\n",
    "reflection = response.choices[0].message.content\n",
    "print(reflection)"
   ]
  },
  {
   "attachments": {},
   "cell_type": "markdown",
   "metadata": {},
   "source": [
    "## 3rd time interacting with Deepseek"
   ]
  },
  {
   "cell_type": "code",
   "execution_count": 8,
   "metadata": {},
   "outputs": [
    {
     "name": "stdout",
     "output_type": "stream",
     "text": [
      "上周，我在美国国会大厦的一次活动中就人工智能及其监管问题发表了演讲，该活动汇聚了立法界和企业界的领袖。我对开源社区在抵御可能扼杀创新的法规方面所取得的进展感到鼓舞。但反对开源的人士正在不断转变他们的论点，最新的担忧聚焦于开源对国家安全的影响。我期望我们都能继续保护开源！\n",
      "\n",
      "基于我与立法者的交流，我对美国联邦政府在切实把握人工智能风险方面所取得的进展感到鼓舞。需要明确的是，监管措施是不可或缺的。但它们应针对人工智能的具体应用，而非通用的人工智能技术。\n"
     ]
    }
   ],
   "source": [
    "# system prompt\n",
    "refiner_system_prompt = f\"You are an expert linguist, specializing in translation editing from English to Chinese.\"\n",
    "\n",
    "# user content\n",
    "refined_translate_user_prompt = f\"\"\"Your task is to carefully read, then edit, a translation from English to Chinese, taking into\n",
    "account a list of expert suggestions and constructive criticisms.\n",
    "\n",
    "The source text, the initial translation, and the expert linguist suggestions are delimited by XML tags <SOURCE_TEXT></SOURCE_TEXT>, <TRANSLATION></TRANSLATION> and <EXPERT_SUGGESTIONS></EXPERT_SUGGESTIONS> \\\n",
    "as follows:\n",
    "\n",
    "<SOURCE_TEXT>\n",
    "{source_text}\n",
    "</SOURCE_TEXT>\n",
    "\n",
    "<TRANSLATION>\n",
    "{translation_1}\n",
    "</TRANSLATION>\n",
    "\n",
    "<EXPERT_SUGGESTIONS>\n",
    "{reflection}\n",
    "</EXPERT_SUGGESTIONS>\n",
    "\n",
    "Please take into account the expert suggestions when editing the translation. Edit the translation by ensuring:\n",
    "\n",
    "(i) accuracy (by correcting errors of addition, mistranslation, omission, or untranslated text),\n",
    "(ii) fluency (by applying Chinese grammar, spelling and punctuation rules and ensuring there are no unnecessary repetitions), \\\n",
    "(iii) style (by ensuring the translations reflect the style of the source text)\n",
    "(iv) terminology (inappropriate for context, inconsistent use), or\n",
    "(v) other errors.\n",
    "\n",
    "Output only the new translation and nothing else.\"\"\"\n",
    "\n",
    "refined_user_prompt = refined_translate_user_prompt.format(\n",
    "        source_text=source_text,\n",
    "        translation_1=translation_1,\n",
    "        reflection=reflection,\n",
    "    )\n",
    "\n",
    "message3 = [\n",
    "    {\"role\":\"system\", \"content\": refiner_system_prompt},\n",
    "    {\"role\":\"user\", \"content\": refined_user_prompt}\n",
    "]\n",
    "\n",
    "response = ask(messages=message3)\n",
    "\n",
    "translation_2 = response.choices[0].message.content\n",
    "print(translation_2)\n"
   ]
  },
  {
   "cell_type": "code",
   "execution_count": null,
   "metadata": {},
   "outputs": [],
   "source": []
  }
 ],
 "metadata": {
  "kernelspec": {
   "display_name": "agent",
   "language": "python",
   "name": "python3"
  },
  "language_info": {
   "codemirror_mode": {
    "name": "ipython",
    "version": 3
   },
   "file_extension": ".py",
   "mimetype": "text/x-python",
   "name": "python",
   "nbconvert_exporter": "python",
   "pygments_lexer": "ipython3",
   "version": "3.10.14"
  },
  "vscode": {
   "interpreter": {
    "hash": "bf9bbd8761e205a067c272e6ed0abbdf91f38ae4d8d5f3f65ae82c28409ae2c6"
   }
  }
 },
 "nbformat": 4,
 "nbformat_minor": 2
}

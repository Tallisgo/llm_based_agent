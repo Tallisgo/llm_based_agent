{
 "cells": [
  {
   "cell_type": "markdown",
   "metadata": {},
   "source": [
    "# Tool 3"
   ]
  },
  {
   "cell_type": "code",
   "execution_count": 1,
   "metadata": {},
   "outputs": [],
   "source": [
    "from openai import OpenAI\n",
    "from typing import List, Dict\n",
    "\n",
    "def ask(messages: List[Dict], is_json:bool = False):\n",
    "        client = OpenAI(api_key='YOUR DEEPSEEK KEY', base_url=\"https://api.deepseek.com\")\n",
    "        \n",
    "        if is_json:\n",
    "                response = client.chat.completions.create(\n",
    "                        model = 'deepseek-chat',\n",
    "                        temperature = 0,\n",
    "                        messages = messages,\n",
    "                        response_format={ \"type\": \"json_object\" }\n",
    "                )\n",
    "        else:\n",
    "                response = client.chat.completions.create(\n",
    "                        model = 'deepseek-chat',\n",
    "                        temperature = 0,\n",
    "                        messages = messages,\n",
    "                )\n",
    "\n",
    "        return response"
   ]
  },
  {
   "cell_type": "markdown",
   "metadata": {},
   "source": [
    "## Math Tool\n",
    "\n",
    "### LLM method"
   ]
  },
  {
   "cell_type": "code",
   "execution_count": 2,
   "metadata": {},
   "outputs": [],
   "source": [
    "system_prompt = \"You are a calculation assistant.\""
   ]
  },
  {
   "cell_type": "code",
   "execution_count": 3,
   "metadata": {},
   "outputs": [],
   "source": [
    "result1 = \"Toronto's population in 2021 was 2,794,356.\"\n",
    "result2 = \"The population of New York City in 2024 is approximately 7,931,147.\"\n",
    "\n",
    "question = f\"To calculate the abs difference between {result1} and {result2}\""
   ]
  },
  {
   "cell_type": "code",
   "execution_count": 4,
   "metadata": {},
   "outputs": [],
   "source": [
    "user_content = f\"\"\"\n",
    "Answer the Question based on the Context. When you write down a expression, it MUST ONLY consists of numbers and operators. Here are some guidelines that you will be PANALIZED if you don't follow:\n",
    "\n",
    "  - When you are asked for differences, you consider the absolute value of the difference. Difference of two numbers is always positive.For instance, the difference between 1 and 2 is 1, not -1.\n",
    "  - When you are applying operations (e.g. difference, summation, ratio, etc.) between multiple values in the Context, you must unify the units of those numbers. For instance, you cannot add 1 meter to 1 foot.\n",
    "     - You must pick the values in the same units if all the values are available in the same units.\n",
    "     - If not, you must convert them to the same units before applying the operation.\n",
    "  - You MUST strictly follow the unit (e.g. meter, kilometer, million, etc.) you were asked.\n",
    "     - If the Context has the numbers in same units as the question, you can directly use them.\n",
    "     - If the Context has the numbers in different units than the question, you must convert them to the units asked in the question.For example, if the question asks for the distance between two cities in kilometers, but the Context has the distance in miles, you must convert the distance to kilometers.\n",
    "  - If you are asked about a particular number in millions, billions, or any other unit, the number should be written without specifying the unit. For example, if you are asked for 100 millions, it should be written as 100, not 100 million or 100,000,000.\n",
    " - Never introduce a variable. For instance \"gazelle_max_speed * 1.4\" is not allowed. Pick up a correct number from the given context.\n",
    "\n",
    " Question: {question}\n",
    " \n",
    "\"\"\""
   ]
  },
  {
   "cell_type": "code",
   "execution_count": 5,
   "metadata": {},
   "outputs": [
    {
     "name": "stdout",
     "output_type": "stream",
     "text": [
      "|7931147 - 2794356| = 5136791\n"
     ]
    }
   ],
   "source": [
    "messages = [\n",
    "    {\"role\":\"system\", \"content\":system_prompt},\n",
    "    {\"role\":\"user\", \"content\":user_content}\n",
    "]\n",
    "\n",
    "response = ask(messages=messages)\n",
    "\n",
    "print(response.choices[0].message.content)"
   ]
  },
  {
   "cell_type": "markdown",
   "metadata": {},
   "source": [
    "### In summary"
   ]
  },
  {
   "cell_type": "code",
   "execution_count": 6,
   "metadata": {},
   "outputs": [],
   "source": [
    "class AbsDifference:\n",
    "    def __init__(self, name:str=\"subtractions\"):\n",
    "        self.system_prompt = \"You are a calculation assistant.\"\n",
    "\n",
    "        self.name = name\n",
    "        self.description = \"math tool for calculating subtractions\"\n",
    "        \n",
    "    def __call__(self, result1:str, result2:str) -> str:\n",
    "        question = f\"To calculate the abs difference between {result1} and {result2}\"\n",
    "\n",
    "        user_content = f\"\"\"\n",
    "Answer the Question based on the Context. When you write down a expression, it MUST ONLY consists of numbers and operators. Here are some guidelines that you will be PANALIZED if you don't follow:\n",
    "\n",
    "  - When you are asked for differences, you consider the absolute value of the difference. Difference of two numbers is always positive.For instance, the difference between 1 and 2 is 1, not -1.\n",
    "  - When you are applying operations (e.g. difference, summation, ratio, etc.) between multiple values in the Context, you must unify the units of those numbers. For instance, you cannot add 1 meter to 1 foot.\n",
    "     - You must pick the values in the same units if all the values are available in the same units.\n",
    "     - If not, you must convert them to the same units before applying the operation.\n",
    "  - You MUST strictly follow the unit (e.g. meter, kilometer, million, etc.) you were asked.\n",
    "     - If the Context has the numbers in same units as the question, you can directly use them.\n",
    "     - If the Context has the numbers in different units than the question, you must convert them to the units asked in the question.For example, if the question asks for the distance between two cities in kilometers, but the Context has the distance in miles, you must convert the distance to kilometers.\n",
    "  - If you are asked about a particular number in millions, billions, or any other unit, the number should be written without specifying the unit. For example, if you are asked for 100 millions, it should be written as 100, not 100 million or 100,000,000.\n",
    " - Never introduce a variable. For instance \"gazelle_max_speed * 1.4\" is not allowed. Pick up a correct number from the given context.\n",
    "\n",
    " Question: {question}\n",
    " \n",
    "\"\"\"\n",
    "        messages = [\n",
    "            {\"role\":\"system\", \"content\":system_prompt},\n",
    "            {\"role\":\"user\", \"content\":user_content}\n",
    "        ]\n",
    "\n",
    "        response = ask(messages=messages)\n",
    "        return response.choices[0].message.content"
   ]
  },
  {
   "cell_type": "code",
   "execution_count": 7,
   "metadata": {},
   "outputs": [
    {
     "name": "stdout",
     "output_type": "stream",
     "text": [
      "5,136,791\n"
     ]
    }
   ],
   "source": [
    "math_tool = AbsDifference()\n",
    "result = math_tool(result1, result2)\n",
    "print(result)"
   ]
  },
  {
   "cell_type": "code",
   "execution_count": null,
   "metadata": {},
   "outputs": [],
   "source": []
  }
 ],
 "metadata": {
  "kernelspec": {
   "display_name": "agent",
   "language": "python",
   "name": "python3"
  },
  "language_info": {
   "codemirror_mode": {
    "name": "ipython",
    "version": 3
   },
   "file_extension": ".py",
   "mimetype": "text/x-python",
   "name": "python",
   "nbconvert_exporter": "python",
   "pygments_lexer": "ipython3",
   "version": "3.10.14"
  },
  "vscode": {
   "interpreter": {
    "hash": "bf9bbd8761e205a067c272e6ed0abbdf91f38ae4d8d5f3f65ae82c28409ae2c6"
   }
  }
 },
 "nbformat": 4,
 "nbformat_minor": 2
}

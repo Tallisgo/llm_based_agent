{
 "cells": [
  {
   "cell_type": "markdown",
   "metadata": {},
   "source": [
    "# Tool 2"
   ]
  },
  {
   "cell_type": "code",
   "execution_count": 1,
   "metadata": {},
   "outputs": [],
   "source": [
    "from openai import OpenAI\n",
    "from typing import List, Dict\n",
    "\n",
    "def ask(messages: List[Dict], is_json:bool = False):\n",
    "        client = OpenAI(api_key='YOUR DEEPSEEK KEY', base_url=\"https://api.deepseek.com\")\n",
    "\n",
    "        if is_json:\n",
    "                response = client.chat.completions.create(\n",
    "                        model = 'deepseek-chat',\n",
    "                        temperature = 0,\n",
    "                        messages = messages,\n",
    "                        response_format={ \"type\": \"json_object\" }\n",
    "                )\n",
    "        else:\n",
    "                response = client.chat.completions.create(\n",
    "                        model = 'deepseek-chat',\n",
    "                        temperature = 0,\n",
    "                        messages = messages,\n",
    "                )\n",
    "\n",
    "        return response"
   ]
  },
  {
   "cell_type": "markdown",
   "metadata": {},
   "source": [
    "## Math tool\n",
    "\n",
    "### Python function"
   ]
  },
  {
   "cell_type": "code",
   "execution_count": 2,
   "metadata": {},
   "outputs": [],
   "source": [
    "def abs_difference(minuend:float, subtrahend:float) -> float:\n",
    "    if minuend >= subtrahend:\n",
    "        return minuend - subtrahend\n",
    "    else:\n",
    "        return subtrahend - minuend"
   ]
  },
  {
   "cell_type": "code",
   "execution_count": 3,
   "metadata": {},
   "outputs": [
    {
     "name": "stdout",
     "output_type": "stream",
     "text": [
      "5136791\n"
     ]
    }
   ],
   "source": [
    "toronto_population = 2794356\n",
    "new_york_population = 7931147\n",
    "\n",
    "diff = abs_difference(toronto_population, new_york_population)\n",
    "print(diff)"
   ]
  },
  {
   "cell_type": "markdown",
   "metadata": {},
   "source": [
    "How to extract the number from the search results?"
   ]
  },
  {
   "cell_type": "code",
   "execution_count": 4,
   "metadata": {},
   "outputs": [],
   "source": [
    "result1 = \"Toronto's population in 2021 was 2,794,356.\"\n",
    "result2 = \"The population of New York City in 2024 is approximately 7,931,147.\""
   ]
  },
  {
   "cell_type": "code",
   "execution_count": 5,
   "metadata": {},
   "outputs": [
    {
     "name": "stdout",
     "output_type": "stream",
     "text": [
      "\n",
      "input parameters\n",
      "<minuend>\n",
      "Toronto's population in 2021 was 2,794,356.\n",
      "</minuend>\n",
      "\n",
      "<subtrahend>\n",
      "The population of New York City in 2024 is approximately 7,931,147.\n",
      "</subtrahend>\n",
      "\n",
      "output parameters in json format\n",
      "```josn\n",
      "{\n",
      "    \"minuend\":\"the value of minuend in float\",\n",
      "    \"subtrahend\": \"the value of subtrahend in float\"\n",
      "}\n",
      "```\n",
      "\n",
      "\n"
     ]
    }
   ],
   "source": [
    "system_prompt = \"\"\"\n",
    "Extract the numerical values from the strings of the minuend and subtrahend provided by the user.\n",
    "\"\"\"\n",
    "\n",
    "user_content = f\"\"\"\n",
    "input parameters\n",
    "<minuend>\n",
    "{result1}\n",
    "</minuend>\n",
    "\n",
    "<subtrahend>\n",
    "{result2}\n",
    "</subtrahend>\n",
    "\n",
    "output parameters in json format\n",
    "```josn\n",
    "{{\n",
    "    \"minuend\":\"the value of minuend in float\",\n",
    "    \"subtrahend\": \"the value of subtrahend in float\"\n",
    "}}\n",
    "```\n",
    "\n",
    "\"\"\"\n",
    "print(user_content)\n",
    "\n",
    "messages = [\n",
    "    {\"role\":\"system\", \"content\":system_prompt},\n",
    "    {\"role\":\"user\", \"content\":user_content}\n",
    "]\n",
    "\n",
    "response = ask(messages=messages, is_json=True)\n"
   ]
  },
  {
   "cell_type": "code",
   "execution_count": 6,
   "metadata": {},
   "outputs": [
    {
     "name": "stdout",
     "output_type": "stream",
     "text": [
      "{'minuend': 2794356.0, 'subtrahend': 7931147.0}\n"
     ]
    }
   ],
   "source": [
    "import json\n",
    "result_dict = json.loads(response.choices[0].message.content)\n",
    "print(result_dict)"
   ]
  },
  {
   "cell_type": "code",
   "execution_count": 7,
   "metadata": {},
   "outputs": [
    {
     "name": "stdout",
     "output_type": "stream",
     "text": [
      "5136791.0\n"
     ]
    }
   ],
   "source": [
    "diff = abs_difference(result_dict[\"minuend\"], result_dict[\"subtrahend\"])\n",
    "print(diff)"
   ]
  },
  {
   "cell_type": "markdown",
   "metadata": {},
   "source": [
    "### In summary"
   ]
  },
  {
   "cell_type": "code",
   "execution_count": 8,
   "metadata": {},
   "outputs": [],
   "source": [
    "class AbsDifference:\n",
    "    def __init__(self, name:str=\"subtractions\"):\n",
    "        self.system_prompt = \"\"\"Extract the numerical values from the strings of the minuend and subtrahend provided by the user.\"\"\"\n",
    "\n",
    "        self.name = name\n",
    "        self.description = \"math tool for calculating subtractions\"\n",
    "        \n",
    "    def __call__(self, result1:str, result2:str) -> float:\n",
    "        user_content = f\"\"\"\n",
    "input parameters\n",
    "<minuend>\n",
    "{result1}\n",
    "</minuend>\n",
    "\n",
    "<subtrahend>\n",
    "{result2}\n",
    "</subtrahend>\n",
    "\n",
    "output parameters in json format\n",
    "```josn\n",
    "{{\n",
    "    \"minuend\":\"the value of minuend in float\",\n",
    "    \"subtrahend\": \"the value of subtrahend in float\"\n",
    "}}\n",
    "```\n",
    "\n",
    "\"\"\"\n",
    "        messages = [\n",
    "            {\"role\":\"system\", \"content\":self.system_prompt},\n",
    "            {\"role\":\"user\", \"content\":user_content}\n",
    "        ]\n",
    "\n",
    "        response = ask(messages=messages, is_json=True)\n",
    "        import json\n",
    "        result_dict = json.loads(response.choices[0].message.content)\n",
    "        diff = abs_difference(result_dict[\"minuend\"], result_dict[\"subtrahend\"])\n",
    "        return diff\n"
   ]
  },
  {
   "cell_type": "code",
   "execution_count": 9,
   "metadata": {},
   "outputs": [
    {
     "name": "stdout",
     "output_type": "stream",
     "text": [
      "5136791.0\n"
     ]
    }
   ],
   "source": [
    "math_tool = AbsDifference()\n",
    "result = math_tool(result1, result2)\n",
    "print(result)"
   ]
  },
  {
   "cell_type": "code",
   "execution_count": null,
   "metadata": {},
   "outputs": [],
   "source": []
  }
 ],
 "metadata": {
  "kernelspec": {
   "display_name": "agent",
   "language": "python",
   "name": "python3"
  },
  "language_info": {
   "codemirror_mode": {
    "name": "ipython",
    "version": 3
   },
   "file_extension": ".py",
   "mimetype": "text/x-python",
   "name": "python",
   "nbconvert_exporter": "python",
   "pygments_lexer": "ipython3",
   "version": "3.10.14"
  },
  "vscode": {
   "interpreter": {
    "hash": "bf9bbd8761e205a067c272e6ed0abbdf91f38ae4d8d5f3f65ae82c28409ae2c6"
   }
  }
 },
 "nbformat": 4,
 "nbformat_minor": 2
}

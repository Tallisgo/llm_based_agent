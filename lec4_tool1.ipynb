{
 "cells": [
  {
   "cell_type": "markdown",
   "metadata": {},
   "source": [
    "# Tool1"
   ]
  },
  {
   "cell_type": "code",
   "execution_count": 1,
   "metadata": {},
   "outputs": [],
   "source": [
    "from openai import OpenAI\n",
    "from typing import List, Dict\n",
    "import requests\n",
    "from bs4 import BeautifulSoup\n",
    "\n",
    "def ask(messages: List[Dict]):\n",
    "        client = OpenAI(api_key='YOUR DEEPSEEK KEY', base_url=\"https://api.deepseek.com\")\n",
    "        response = client.chat.completions.create(\n",
    "                model = 'deepseek-chat',\n",
    "                temperature = 0,\n",
    "                messages = messages\n",
    "        )\n",
    "\n",
    "        return response"
   ]
  },
  {
   "cell_type": "markdown",
   "metadata": {},
   "source": [
    "## web search tool"
   ]
  },
  {
   "cell_type": "code",
   "execution_count": 2,
   "metadata": {},
   "outputs": [],
   "source": [
    "## Web Search\n",
    "from search import internet_search, process_content\n",
    "\n",
    "class WebSearch:\n",
    "    def __init__(self, name:str='web_search', threhold:int=8000):\n",
    "        self.system_prompt = \"\"\"\n",
    "You are a Insight Researcher.\n",
    "\n",
    "1. To find detail informtion for the user query\n",
    "and summary the content into one sentence as simple as possible\n",
    "2. If the user's question is about specific numerical values, \n",
    "only return the numerical results without any additional explanation.\n",
    "\"\"\"\n",
    "        self.name = name\n",
    "        self.description = \"the tool use for web search\"\n",
    "        self.threhold = threhold\n",
    "\n",
    "    def __call__(self, query:str):\n",
    "        # print(query)\n",
    "        results = internet_search(query)\n",
    "        # print(results)\n",
    "        all_text = \"\"\n",
    "        windows_size = 0\n",
    "        for item in results:\n",
    "            if windows_size >= self.threhold:\n",
    "                break\n",
    "            page_content = process_content(item['href'])\n",
    "            for page in page_content:\n",
    "                if windows_size + len(page) > self.threhold:\n",
    "                    remaining_space = self.threhold - windows_size\n",
    "                    all_text += page[:remaining_space].strip() + \"\\n\\n\"\n",
    "                    windows_size = self.threhold\n",
    "                    break\n",
    "                else:\n",
    "                    windows_size += len(page)\n",
    "                    all_text += page + \"\\n\\n\"\n",
    "            if windows_size >= self.threhold:\n",
    "                break\n",
    "\n",
    "        msg = [{\"role\":\"system\",\"content\":self.system_prompt},\n",
    "               {\"role\":\"user\", \"content\": f\"The search results are {all_text}\"}]\n",
    "        \n",
    "        answer = ask(messages=msg)\n",
    "\n",
    "        return answer.choices[0].message.content\n"
   ]
  },
  {
   "cell_type": "code",
   "execution_count": 3,
   "metadata": {},
   "outputs": [
    {
     "name": "stdout",
     "output_type": "stream",
     "text": [
      "Toronto's population in 2021 was 2,794,356, with 55.7% being visible minorities.\n"
     ]
    }
   ],
   "source": [
    "search_tool = WebSearch()\n",
    "result1 = search_tool(\"population of Toronto\")\n",
    "print(result1)"
   ]
  },
  {
   "cell_type": "code",
   "execution_count": 4,
   "metadata": {},
   "outputs": [
    {
     "name": "stdout",
     "output_type": "stream",
     "text": [
      "The population of New York City in 2024 is approximately 7,931,147.\n"
     ]
    }
   ],
   "source": [
    "search_tool = WebSearch()\n",
    "result2 = search_tool(\"current population of New York City\")\n",
    "print(result2)"
   ]
  }
 ],
 "metadata": {
  "kernelspec": {
   "display_name": "agent",
   "language": "python",
   "name": "python3"
  },
  "language_info": {
   "codemirror_mode": {
    "name": "ipython",
    "version": 3
   },
   "file_extension": ".py",
   "mimetype": "text/x-python",
   "name": "python",
   "nbconvert_exporter": "python",
   "pygments_lexer": "ipython3",
   "version": "3.10.14"
  },
  "vscode": {
   "interpreter": {
    "hash": "bf9bbd8761e205a067c272e6ed0abbdf91f38ae4d8d5f3f65ae82c28409ae2c6"
   }
  }
 },
 "nbformat": 4,
 "nbformat_minor": 2
}
